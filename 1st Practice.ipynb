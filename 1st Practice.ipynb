{
 "cells": [
  {
   "cell_type": "markdown",
   "id": "9ad3d3ae",
   "metadata": {},
   "source": [
    "# Project 1.0"
   ]
  },
  {
   "cell_type": "markdown",
   "id": "4a9b51c5",
   "metadata": {},
   "source": [
    "### Student Portfolio"
   ]
  },
  {
   "cell_type": "code",
   "execution_count": 28,
   "id": "9767f944",
   "metadata": {},
   "outputs": [],
   "source": [
    "#step 1 : \n",
    "\n",
    "#take inputs from student to enter their credentials \n",
    "\n",
    "#like their Name,std and roll no - store it in any variable name\n"
   ]
  },
  {
   "cell_type": "code",
   "execution_count": 29,
   "id": "e6706eb9",
   "metadata": {},
   "outputs": [
    {
     "name": "stdout",
     "output_type": "stream",
     "text": [
      "Enter Your Full Name here : Rahul Kumar\n",
      "Enter Your class and Div : 5th C\n",
      "Enter Your Roll no to see the result : 100051\n"
     ]
    }
   ],
   "source": [
    "studentName = str(input( \"Enter Your Full Name here : \" ))\n",
    "StudentStd  = input(\"Enter Your class and Div : \" )\n",
    "StudentRoll = int(input( \"Enter Your Roll no to see the result : \" ))\n"
   ]
  },
  {
   "cell_type": "code",
   "execution_count": 30,
   "id": "e9fbbb33",
   "metadata": {},
   "outputs": [],
   "source": [
    "#step 2:\n",
    "\n",
    "# take theirs any three subject marks and store in any variable\n"
   ]
  },
  {
   "cell_type": "code",
   "execution_count": 31,
   "id": "4eed30e3",
   "metadata": {},
   "outputs": [
    {
     "name": "stdout",
     "output_type": "stream",
     "text": [
      "enter phy marks : 85\n",
      "enter chem marks : 65\n",
      "enter Maths marks : 70\n"
     ]
    }
   ],
   "source": [
    "P = int(input( \"enter phy marks : \" ))\n",
    "C = int(input( \"enter chem marks : \" ))\n",
    "M = int(input( \"enter Maths marks : \" ))"
   ]
  },
  {
   "cell_type": "code",
   "execution_count": 32,
   "id": "0d9db922",
   "metadata": {},
   "outputs": [],
   "source": [
    "#step 3:\n",
    "\n",
    "# add their total marks into a variable\n",
    "\n",
    "#step 4 :\n",
    "\n",
    "# Calculate percentage: \n",
    "\n",
    "#add all three marks and divide with total marks of exams and percent it while just multiply the value with cent(i.e 100)"
   ]
  },
  {
   "cell_type": "code",
   "execution_count": 34,
   "id": "205e5c19",
   "metadata": {},
   "outputs": [],
   "source": [
    "gotMarks = P+C+M\n",
    "\n",
    "perct = (gotMarks/300*100)\n"
   ]
  },
  {
   "cell_type": "code",
   "execution_count": 35,
   "id": "22bce4de",
   "metadata": {},
   "outputs": [],
   "source": [
    "#last and final step :\n",
    "\n",
    "#just show the percentage to student in print statement :\n",
    "    #tips: round the decimal places upto 2 points in value to look better\n"
   ]
  },
  {
   "cell_type": "code",
   "execution_count": 36,
   "id": "6d79535c",
   "metadata": {},
   "outputs": [
    {
     "name": "stdout",
     "output_type": "stream",
     "text": [
      "Hurray!! We Got Your Result Is : 73.33 % Marks\n"
     ]
    }
   ],
   "source": [
    "print(\"Hurray!! We Got Your Result Is :\", \"%.2f\" % perct ,\"% Marks\")\n"
   ]
  },
  {
   "cell_type": "markdown",
   "id": "26320a7c",
   "metadata": {},
   "source": [
    "# Congrats You have learnt the basics and done it Successfully !!"
   ]
  }
 ],
 "metadata": {
  "kernelspec": {
   "display_name": "Python 3",
   "language": "python",
   "name": "python3"
  },
  "language_info": {
   "codemirror_mode": {
    "name": "ipython",
    "version": 3
   },
   "file_extension": ".py",
   "mimetype": "text/x-python",
   "name": "python",
   "nbconvert_exporter": "python",
   "pygments_lexer": "ipython3",
   "version": "3.8.8"
  }
 },
 "nbformat": 4,
 "nbformat_minor": 5
}
